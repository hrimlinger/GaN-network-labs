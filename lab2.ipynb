{
 "cells": [
  {
   "cell_type": "markdown",
   "id": "5a9cd69d",
   "metadata": {},
   "source": [
    "# Graph and networks Lab 2"
   ]
  },
  {
   "cell_type": "markdown",
   "id": "8470c6c8",
   "metadata": {},
   "source": [
    "## Place your imports here"
   ]
  },
  {
   "cell_type": "code",
   "execution_count": 1,
   "id": "a01ced79",
   "metadata": {},
   "outputs": [],
   "source": [
    "import base64\n",
    "import requests\n",
    "\n",
    "from dns import message\n",
    "from pprint import pprint\n",
    "from ipaddress import IPv4Address, AddressValueError"
   ]
  },
  {
   "cell_type": "markdown",
   "id": "e074291d",
   "metadata": {},
   "source": [
    "## PRIVATE RIPE Atlas key (provided during the session)."
   ]
  },
  {
   "cell_type": "code",
   "execution_count": null,
   "id": "98612dde",
   "metadata": {},
   "outputs": [],
   "source": [
    "# DO NOT SHARE OR EXCHANGE THE PROVIDED API KEY #\n",
    "API_KEY = \"\""
   ]
  },
  {
   "cell_type": "markdown",
   "id": "ff184783",
   "metadata": {},
   "source": [
    "## Default Parameters"
   ]
  },
  {
   "cell_type": "code",
   "execution_count": 3,
   "id": "e4a60e1a",
   "metadata": {},
   "outputs": [],
   "source": [
    "HEADER = {\"Authorization\": f\"Key {API_KEY}\"}\n",
    "RIPE_ATLAS_API_URL = \"https://atlas.ripe.net/api/v2\""
   ]
  },
  {
   "cell_type": "markdown",
   "id": "40e462cb",
   "metadata": {},
   "source": [
    "## DNS measurements"
   ]
  },
  {
   "cell_type": "markdown",
   "id": "24c2b737",
   "metadata": {},
   "source": [
    "* For both VPs [7193, 6830] perform DNS resolution to:\n",
    "    * google.com\n",
    "    * cloudflare.com\n",
    "* Function get_dns_results(m_id) parse and return the result of a DNS measurement"
   ]
  },
  {
   "cell_type": "code",
   "execution_count": 4,
   "id": "4232e700",
   "metadata": {},
   "outputs": [],
   "source": [
    "VP_IDS = [7193, 6830]\n",
    "HOSTNAME1 = \"www.cloudflare.com\"\n",
    "HOSTNAME2 = \"www.google.com\""
   ]
  },
  {
   "cell_type": "code",
   "execution_count": 5,
   "id": "c1b96387",
   "metadata": {},
   "outputs": [],
   "source": [
    "def get_dns_config(\n",
    "    target: str,\n",
    "    vp_ids: list[int],\n",
    "    description: str = \"GaN DNS\",\n",
    "    resolver_address: str = None,\n",
    ") -> dict:\n",
    "    \"\"\"function to define a DNS measurement before posting it\"\"\"\n",
    "\n",
    "    params = {\n",
    "        \"type\": \"dns\",\n",
    "        \"af\": 4,\n",
    "        \"query_class\": \"IN\",\n",
    "        \"query_type\": \"A\",\n",
    "        \"query_argument\": target,\n",
    "        \"tags\": [\"dioptra\", \"gan\"],\n",
    "        \"description\": f\"{description}\",\n",
    "        \"is_oneoff\": True,\n",
    "    }\n",
    "\n",
    "    if resolver_address:\n",
    "        params[\"resolver_address\"] = resolver_address\n",
    "    else:\n",
    "        params[\"use_probe_resolver\"] = True\n",
    "\n",
    "    return {\n",
    "        \"definitions\": [params],\n",
    "        \"probes\": [\n",
    "            {\"value\": v_id, \"type\": \"probes\", \"requested\": 1} for v_id in vp_ids\n",
    "        ],\n",
    "        \"is_oneoff\": True,\n",
    "    }"
   ]
  },
  {
   "cell_type": "code",
   "execution_count": null,
   "id": "e1781c1a",
   "metadata": {},
   "outputs": [],
   "source": [
    "url = f\"{RIPE_ATLAS_API_URL}/measurements/\"\n",
    "\n",
    "m_id_1 = requests.post(url=url, headers=HEADER, json=get_dns_config(HOSTNAME1, VP_IDS))\n",
    "m_id_1 = m_id_1.json()[\"measurements\"][0]\n",
    "print(m_id_1)"
   ]
  },
  {
   "cell_type": "code",
   "execution_count": null,
   "id": "83eea581",
   "metadata": {},
   "outputs": [],
   "source": [
    "# measurement results url\n",
    "m_id_1 = 129746259\n",
    "url = f\"{RIPE_ATLAS_API_URL}/measurements/{m_id_1}/results\"\n",
    "print(url)\n",
    "\n",
    "resp = requests.get(url)\n",
    "resp = resp.json()"
   ]
  },
  {
   "cell_type": "code",
   "execution_count": 8,
   "id": "71fc468b",
   "metadata": {},
   "outputs": [],
   "source": [
    "def parse_dns_results(resp: list[dict]) -> list[dict]:\n",
    "    \"\"\"return DNS results based for a measurement\"\"\"\n",
    "\n",
    "    parsed_results = []\n",
    "    for m in resp:\n",
    "        src_addr = m[\"from\"]\n",
    "        prb_id = m[\"prb_id\"]\n",
    "        results = m[\"resultset\"]\n",
    "\n",
    "        for result in results:\n",
    "            resolver_addr = result[\"dst_addr\"]\n",
    "            dns_results = result[\"result\"]\n",
    "            abuf = dns_results[\"abuf\"]\n",
    "            try:\n",
    "                msg = message.from_wire(base64.b64decode(abuf))\n",
    "            except Exception as e:\n",
    "                print(e)\n",
    "                continue\n",
    "\n",
    "            for ans in msg.answer:\n",
    "                hostname = ans.name.to_text()\n",
    "                ipv4_redirection = set()\n",
    "                for item in ans.items:\n",
    "                    try:\n",
    "                        if IPv4Address(item).is_private:\n",
    "                            continue\n",
    "                    except AddressValueError:\n",
    "                        continue\n",
    "\n",
    "                    ipv4_redirection.add(str(item))\n",
    "                parsed_results.append(\n",
    "                    {\n",
    "                        \"src_addr\": src_addr,\n",
    "                        \"prb_id\": prb_id,\n",
    "                        \"resolver_addr\": resolver_addr,\n",
    "                        \"hostname\": hostname,\n",
    "                        \"answers\": ipv4_redirection,\n",
    "                    }\n",
    "                )\n",
    "\n",
    "    return parsed_results"
   ]
  },
  {
   "cell_type": "code",
   "execution_count": null,
   "id": "5e3def7a",
   "metadata": {},
   "outputs": [],
   "source": [
    "dns_results_1 = parse_dns_results(resp)\n",
    "for result in dns_results_1:\n",
    "    src_addr = result[\"src_addr\"]\n",
    "    prb_id = result[\"prb_id\"]\n",
    "    resolver_addr = result[\"resolver_addr\"]\n",
    "    hostname = result[\"hostname\"]\n",
    "    answers = result[\"answers\"]\n",
    "    print(f\"{src_addr=}; {prb_id=}; {resolver_addr=}; {hostname=}; {answers=}\")"
   ]
  },
  {
   "cell_type": "markdown",
   "id": "7d2517c5",
   "metadata": {},
   "source": [
    "## Write the code for measuring the second hostname"
   ]
  },
  {
   "cell_type": "code",
   "execution_count": null,
   "id": "728ace86",
   "metadata": {},
   "outputs": [],
   "source": []
  },
  {
   "cell_type": "markdown",
   "id": "ded076f3",
   "metadata": {},
   "source": [
    "# Perform Traceroute"
   ]
  },
  {
   "cell_type": "markdown",
   "id": "ae4284cb",
   "metadata": {},
   "source": [
    "## Import dependencies"
   ]
  },
  {
   "cell_type": "code",
   "execution_count": 1,
   "id": "a47ca774",
   "metadata": {},
   "outputs": [
    {
     "name": "stdout",
     "output_type": "stream",
     "text": [
      "defaultdict(<class 'list'>, {'a': [0, 1, 2, 3, 4], 'b': [5, 6, 7, 8, 9]})\n"
     ]
    }
   ],
   "source": [
    "from collections import defaultdict\n",
    "from helpers import get_prefix_from_ip\n",
    "from ripe_atlas_api import get_traceroute_config\n",
    "\n",
    "# defaultdict is a very helpful python data structure that facilitate dict manipulation\n",
    "# example: a dict of dict or a dict of list\n",
    "my_default_dict = defaultdict(list)\n",
    "for i in range(0, 10, 1):\n",
    "    if i < 5:\n",
    "        my_default_dict[\"a\"].append(i)\n",
    "    else:\n",
    "        my_default_dict[\"b\"].append(i)\n",
    "print(my_default_dict)"
   ]
  },
  {
   "cell_type": "markdown",
   "id": "86495c6a",
   "metadata": {},
   "source": [
    "* You retrieved one or more IP addresses per pair (VP; hostname):\n",
    "    1. For each IP address, store the pair (VP; hostname)\n",
    "    2. Retrieved one IP address per /24 prefix for each pair\n",
    "    3. Perform meshed Traceroute for each IP addresses (between 10-15 measurements)\n",
    "    4. Retrieve results and group them per (VP; hostname; dst_addr)"
   ]
  },
  {
   "cell_type": "code",
   "execution_count": null,
   "id": "aafd1eea",
   "metadata": {},
   "outputs": [],
   "source": [
    "# EXERCISE 1: Get one IP address per /24 prefix answers\n",
    "# You can use the helper function which return the /24 prefix by default\n",
    "# ex: ip_addr = 8.8.8.8, get_prefix_from_ip(ip_addr, 24) returns ip_prefix =  8.8.8.0/24\n",
    "# You should obtain a list of targets to trace"
   ]
  },
  {
   "cell_type": "code",
   "execution_count": null,
   "id": "053b3866",
   "metadata": {},
   "outputs": [],
   "source": [
    "# EXERCISE 2: Run Traceroute measurements and retrieve measurements\n",
    "# HINT: For each measurements, get the measurement id and store in a list"
   ]
  },
  {
   "cell_type": "markdown",
   "id": "4340d4d8",
   "metadata": {},
   "source": [
    "# Print latency for each pair VP; hostname"
   ]
  },
  {
   "cell_type": "markdown",
   "id": "72c863a9",
   "metadata": {},
   "source": [
    "# For each traceroute, get the AS Path using RIPE RIS"
   ]
  },
  {
   "cell_type": "markdown",
   "id": "cac8a1b0",
   "metadata": {},
   "source": [
    "## Query RIPE RIS API"
   ]
  },
  {
   "cell_type": "code",
   "execution_count": null,
   "id": "7b20a142",
   "metadata": {},
   "outputs": [
    {
     "name": "stdout",
     "output_type": "stream",
     "text": [
      "{'build_version': 'main-2025.09.19',\n",
      " 'cached': True,\n",
      " 'data': {'actual_num_related': 0,\n",
      "          'announced': True,\n",
      "          'asns': [{'asn': 1307, 'holder': 'FR-U-JUSSIEU-PARIS'}],\n",
      "          'block': {'desc': 'Administered by ARIN',\n",
      "                    'name': 'IANA IPv4 Address Space Registry',\n",
      "                    'resource': '132.0.0.0/8'},\n",
      "          'is_less_specific': True,\n",
      "          'num_filtered_out': 0,\n",
      "          'query_time': '2025-09-23T08:00:00',\n",
      "          'related_prefixes': [],\n",
      "          'resource': '132.227.0.0/16',\n",
      "          'type': 'prefix'},\n",
      " 'data_call_name': 'prefix-overview',\n",
      " 'data_call_status': 'supported',\n",
      " 'messages': [['warning',\n",
      "               'Given resource is not announced but result has been aligned to '\n",
      "               'first-level less-specific (132.227.0.0/16).']],\n",
      " 'process_time': 1,\n",
      " 'query_id': '20250923122459-e29779ea-25d4-4037-b5c0-1152e15be7a6',\n",
      " 'see_also': [],\n",
      " 'server_id': 'app179',\n",
      " 'status': 'ok',\n",
      " 'status_code': 200,\n",
      " 'time': '2025-09-23T12:24:59.005431',\n",
      " 'version': '1.3'}\n"
     ]
    }
   ],
   "source": [
    "ip_addr = \"132.227.123.74\"\n",
    "url = \"https://stat.ripe.net/data/prefix-overview/data.json\"\n",
    "params = {\"resource\": ip_addr}\n",
    "resp = requests.get(url, params=params)\n",
    "resp = resp.json()\n",
    "pprint(resp)"
   ]
  },
  {
   "cell_type": "code",
   "execution_count": null,
   "id": "3e4de0b5",
   "metadata": {},
   "outputs": [],
   "source": [
    "# EXERCISE: get the AS number and BGP prefix"
   ]
  },
  {
   "cell_type": "markdown",
   "id": "6a46c5f6",
   "metadata": {},
   "source": [
    "## Output AS path for each of your Traceroutes"
   ]
  },
  {
   "cell_type": "code",
   "execution_count": null,
   "id": "63c58d2a",
   "metadata": {},
   "outputs": [],
   "source": []
  }
 ],
 "metadata": {
  "kernelspec": {
   "display_name": ".GaN-venv",
   "language": "python",
   "name": "python3"
  },
  "language_info": {
   "codemirror_mode": {
    "name": "ipython",
    "version": 3
   },
   "file_extension": ".py",
   "mimetype": "text/x-python",
   "name": "python",
   "nbconvert_exporter": "python",
   "pygments_lexer": "ipython3",
   "version": "3.13.7"
  }
 },
 "nbformat": 4,
 "nbformat_minor": 5
}
