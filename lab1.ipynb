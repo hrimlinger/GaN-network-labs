{
 "cells": [
  {
   "cell_type": "markdown",
   "id": "5a9cd69d",
   "metadata": {},
   "source": [
    "# Graph and networks Lab 1"
   ]
  },
  {
   "cell_type": "markdown",
   "id": "8470c6c8",
   "metadata": {},
   "source": [
    "## Place your imports here"
   ]
  },
  {
   "cell_type": "code",
   "execution_count": 3,
   "id": "a01ced79",
   "metadata": {},
   "outputs": [],
   "source": [
    "import requests\n",
    "from pprint import pprint"
   ]
  },
  {
   "cell_type": "markdown",
   "id": "e074291d",
   "metadata": {},
   "source": [
    "## PRIVATE RIPE Atlas key (provided during the session)."
   ]
  },
  {
   "cell_type": "code",
   "execution_count": 4,
   "id": "98612dde",
   "metadata": {},
   "outputs": [],
   "source": [
    "# DO NOT SHARE OR EXCHANGE THE PROVIDED API KEY #\n",
    "API_KEY = \"\""
   ]
  },
  {
   "cell_type": "markdown",
   "id": "ff184783",
   "metadata": {},
   "source": [
    "## Default Parameters"
   ]
  },
  {
   "cell_type": "code",
   "execution_count": 32,
   "id": "e4a60e1a",
   "metadata": {},
   "outputs": [],
   "source": [
    "HEADER = {\"Authorization\": f\"Key {API_KEY}\"}\n",
    "RIPE_ATLAS_API_URL = \"https://atlas.ripe.net/api/v2\""
   ]
  },
  {
   "cell_type": "markdown",
   "id": "40e462cb",
   "metadata": {},
   "source": [
    "## Get measurement information"
   ]
  },
  {
   "cell_type": "code",
   "execution_count": null,
   "id": "5c0c97b2",
   "metadata": {},
   "outputs": [],
   "source": [
    "# url to the measurement\n",
    "measurement_id = 84096903\n",
    "url = f\"{RIPE_ATLAS_API_URL}/measurements/{measurement_id}\"\n",
    "\n",
    "print(url)\n",
    "\n",
    "# get the url with HTTP request\n",
    "resp = requests.get(url)\n",
    "\n",
    "# pprint makes it easier to visualize complex dict/JSON structure\n",
    "pprint(resp.json())"
   ]
  },
  {
   "cell_type": "markdown",
   "id": "3952f131",
   "metadata": {},
   "source": [
    "# EXERCISE 1: Get measurement results"
   ]
  },
  {
   "cell_type": "code",
   "execution_count": null,
   "id": "83eea581",
   "metadata": {},
   "outputs": [],
   "source": [
    "# measurement results url\n",
    "url = f\"{RIPE_ATLAS_API_URL}/measurements/{measurement_id}/results\"\n",
    "print(url)\n",
    "\n",
    "# EXERCISE: write the code to get access to the measurement results"
   ]
  },
  {
   "cell_type": "markdown",
   "id": "ded076f3",
   "metadata": {},
   "source": [
    "## Write the function to print: 1) src_addr, 2) the probe ID, 3) dst_addr, 4) the rtts and 5) the min_rtt"
   ]
  },
  {
   "cell_type": "code",
   "execution_count": null,
   "id": "aafd1eea",
   "metadata": {},
   "outputs": [],
   "source": [
    "# EXERCISE: write the code to get access to print the src_addr, prb_id, from, dst_addr, rtts and extract the min rtt"
   ]
  },
  {
   "cell_type": "markdown",
   "id": "156802cb",
   "metadata": {},
   "source": [
    "## Order the measurements by increasing min_rtt"
   ]
  },
  {
   "cell_type": "code",
   "execution_count": null,
   "id": "0e8dc6e3",
   "metadata": {},
   "outputs": [
    {
     "name": "stdout",
     "output_type": "stream",
     "text": [
      "(6858, '139.19.117.65', '139.19.216.254', [0.580632, 0.535629, 0.523793], 0.523793)\n"
     ]
    }
   ],
   "source": [
    "# EXERCISE: With the list previously extracted, get an ordered list of measurement with increasing min rtt\n",
    "# get the VP with the shortest ping (minimum min_rtt)."
   ]
  },
  {
   "cell_type": "markdown",
   "id": "817fd2d0",
   "metadata": {},
   "source": [
    "# EXERCISE 2: Perform a ping measurement to target IP 1"
   ]
  },
  {
   "cell_type": "markdown",
   "id": "85c70da4",
   "metadata": {},
   "source": [
    "### Use the list of VPs to make measurements towards two targets"
   ]
  },
  {
   "cell_type": "code",
   "execution_count": null,
   "id": "dfc3037b",
   "metadata": {},
   "outputs": [],
   "source": [
    "VP_IDS = [7193, 6830]\n",
    "TARGET1 = \"142.250.201.36\"\n",
    "TARGET2 = \"104.16.124.96\""
   ]
  },
  {
   "cell_type": "code",
   "execution_count": 34,
   "id": "b94fe875",
   "metadata": {},
   "outputs": [],
   "source": [
    "def get_ping_config(\n",
    "    target: str, vp_ids: list[int], description: str = \"GaN ping\"\n",
    ") -> dict:\n",
    "    \"\"\"function to define a ping measurement before posting it\"\"\"\n",
    "    return {\n",
    "        \"definitions\": [\n",
    "            {\n",
    "                \"target\": target,\n",
    "                \"af\": 4,\n",
    "                \"packets\": 3,\n",
    "                \"size\": 48,\n",
    "                \"tags\": [\"dioptra\", \"gan\"],\n",
    "                \"description\": f\"{description}\",\n",
    "                \"resolve_on_probe\": False,\n",
    "                \"skip_dns_check\": True,\n",
    "                \"include_probe_id\": False,\n",
    "                \"type\": \"ping\",\n",
    "            }\n",
    "        ],\n",
    "        \"probes\": [\n",
    "            {\"value\": v_id, \"type\": \"probes\", \"requested\": 1} for v_id in vp_ids\n",
    "        ],\n",
    "        \"is_oneoff\": True,\n",
    "    }"
   ]
  },
  {
   "cell_type": "markdown",
   "id": "8d0cc8f6",
   "metadata": {},
   "source": [
    "## Perform measurement towards the first IP address"
   ]
  },
  {
   "cell_type": "code",
   "execution_count": null,
   "id": "a787a9ca",
   "metadata": {},
   "outputs": [
    {
     "name": "stdout",
     "output_type": "stream",
     "text": [
      "{'measurements': [128730528]}\n"
     ]
    }
   ],
   "source": [
    "url = f\"{RIPE_ATLAS_API_URL}/measurements/\"\n",
    "\n",
    "# This time we use the POST method (instead of the GET), to POST a measurement\n",
    "# on RIPE Atlas using the API\n",
    "measurement_id_1 = requests.post(\n",
    "    url=url, headers=HEADER, json=get_ping_config(TARGET1, VP_IDS)\n",
    ")\n",
    "\n",
    "print(measurement_id_1.json())"
   ]
  },
  {
   "cell_type": "markdown",
   "id": "b247d38a",
   "metadata": {},
   "source": [
    "## Get measurement results and extract lowest latency"
   ]
  },
  {
   "cell_type": "code",
   "execution_count": null,
   "id": "f64aeddb",
   "metadata": {},
   "outputs": [],
   "source": [
    "measurement_id = \"replace_with_the_id_of_the_measurement_you_did\"\n",
    "url = f\"{RIPE_ATLAS_API_URL}/measurements/{measurement_id}/results\"\n",
    "\n",
    "# EXERCISE: get results from RIPE Atlas and extract/print the min_rtt for each VP"
   ]
  },
  {
   "cell_type": "markdown",
   "id": "48ed9b2e",
   "metadata": {},
   "source": [
    "## EXERCISE 3: Do the same for Target IP 2"
   ]
  },
  {
   "cell_type": "code",
   "execution_count": null,
   "id": "e0998e99",
   "metadata": {},
   "outputs": [],
   "source": []
  },
  {
   "cell_type": "markdown",
   "id": "acbb28bb",
   "metadata": {},
   "source": [
    "#  EXERCISE 4: Perform a traceroute measurement"
   ]
  },
  {
   "cell_type": "code",
   "execution_count": null,
   "id": "3edb93ff",
   "metadata": {},
   "outputs": [],
   "source": [
    "def get_traceroute_config(\n",
    "    target: str, vp_ids: list[int], description: str = \"GaN ping\"\n",
    ") -> dict:\n",
    "    \"\"\"function to define a ping measurement before posting it\"\"\"\n",
    "    return {\n",
    "        \"definitions\": [\n",
    "            {\n",
    "                \"target\": target,\n",
    "                \"af\": 4,\n",
    "                \"packets\": 3,\n",
    "                \"first_hop\": 1,\n",
    "                \"max_hops\": 30,\n",
    "                \"protocol\": \"ICMP\",\n",
    "                \"tags\": [\"dioptra\", \"gan\"],\n",
    "                \"description\": f\"{description}\",\n",
    "                \"resolve_on_probe\": False,\n",
    "                \"skip_dns_check\": True,\n",
    "                \"include_probe_id\": False,\n",
    "                \"type\": \"traceroute\",\n",
    "            }\n",
    "        ],\n",
    "        \"probes\": [\n",
    "            {\"value\": v_id, \"type\": \"probes\", \"requested\": 1} for v_id in vp_ids\n",
    "        ],\n",
    "        \"is_oneoff\": True,\n",
    "    }"
   ]
  },
  {
   "cell_type": "markdown",
   "id": "fe095caf",
   "metadata": {},
   "source": [
    "## Perform traceroute to the first IP address"
   ]
  },
  {
   "cell_type": "code",
   "execution_count": null,
   "id": "edcc8597",
   "metadata": {},
   "outputs": [],
   "source": []
  },
  {
   "cell_type": "markdown",
   "id": "448349d5",
   "metadata": {},
   "source": [
    "## Retrieve the results and print the IP level path for each VP"
   ]
  },
  {
   "cell_type": "code",
   "execution_count": null,
   "id": "a9245efe",
   "metadata": {},
   "outputs": [],
   "source": []
  },
  {
   "cell_type": "markdown",
   "id": "4f17e593",
   "metadata": {},
   "source": [
    "## Perform traceroute to the second IP address"
   ]
  },
  {
   "cell_type": "code",
   "execution_count": null,
   "id": "2e7e5e97",
   "metadata": {},
   "outputs": [],
   "source": []
  },
  {
   "cell_type": "markdown",
   "id": "4ea89af6",
   "metadata": {},
   "source": [
    "## Retrieve the results and print the IP level path for each VP"
   ]
  },
  {
   "cell_type": "code",
   "execution_count": null,
   "id": "affe0cf3",
   "metadata": {},
   "outputs": [],
   "source": []
  }
 ],
 "metadata": {
  "kernelspec": {
   "display_name": ".GaN-venv",
   "language": "python",
   "name": "python3"
  },
  "language_info": {
   "codemirror_mode": {
    "name": "ipython",
    "version": 3
   },
   "file_extension": ".py",
   "mimetype": "text/x-python",
   "name": "python",
   "nbconvert_exporter": "python",
   "pygments_lexer": "ipython3",
   "version": "3.13.7"
  }
 },
 "nbformat": 4,
 "nbformat_minor": 5
}
